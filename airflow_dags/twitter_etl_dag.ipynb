{
 "cells": [
  {
   "cell_type": "code",
   "execution_count": null,
   "id": "1a46753a-acdf-461e-93be-014b4eeca80e",
   "metadata": {},
   "outputs": [],
   "source": [
    "from datetime import timedelta, datetime\n",
    "import pytz\n",
    "from airflow import DAG\n",
    "from airflow.operators.python_operator import PythonOperator\n",
    "from twitter_etl_hujan import run_twitter_extract, run_twitter_transform, run_twitter_load\n",
    "\n",
    "# Set default arguments for the DAG\n",
    "default_args = {\n",
    "    'owner': 'airflow',\n",
    "    'depends_on_past': False,\n",
    "    'start_date': datetime(2024, 11, 20, tzinfo=pytz.timezone('Asia/Jakarta')),\n",
    "    'retries': 1,\n",
    "    'retry_delay': timedelta(minutes=5),\n",
    "}\n",
    "\n",
    "# Create the DAG instance\n",
    "dag_twitter = DAG(\n",
    "    'twitter_etl_dag',\n",
    "    default_args=default_args,\n",
    "    description='Tweets ETL DAG',\n",
    "    schedule_interval='@daily',\n",
    "    catchup=False  # to avoid backfilling if there's a delay in running\n",
    ")\n",
    "\n",
    "# Create the PythonOperator for running the Extract task\n",
    "run_extract = PythonOperator(\n",
    "    task_id='complete_twitter_extract',\n",
    "    python_callable=run_twitter_extract,\n",
    "    provide_context=True,  # Make sure that we can access XCom\n",
    "    dag=dag_twitter\n",
    ")\n",
    "\n",
    "# Create the PythonOperator for running the Transform task\n",
    "run_transform = PythonOperator(\n",
    "    task_id='complete_twitter_transform',\n",
    "    python_callable=run_twitter_transform,\n",
    "    provide_context=True,  # Ensure the transformed data is passed using XCom\n",
    "    dag=dag_twitter\n",
    ")\n",
    "\n",
    "# Create the PythonOperator for running the Load task\n",
    "run_load = PythonOperator(\n",
    "    task_id='complete_twitter_load',\n",
    "    python_callable=run_twitter_load,\n",
    "    provide_context=True,  # Allow access to XCom data\n",
    "    dag=dag_twitter\n",
    ")\n",
    "\n",
    "# Define the task dependencies\n",
    "run_extract >> run_transform >> run_load\n"
   ]
  }
 ],
 "metadata": {
  "kernelspec": {
   "display_name": "Python 3 (ipykernel)",
   "language": "python",
   "name": "python3"
  },
  "language_info": {
   "codemirror_mode": {
    "name": "ipython",
    "version": 3
   },
   "file_extension": ".py",
   "mimetype": "text/x-python",
   "name": "python",
   "nbconvert_exporter": "python",
   "pygments_lexer": "ipython3",
   "version": "3.10.15"
  }
 },
 "nbformat": 4,
 "nbformat_minor": 5
}
